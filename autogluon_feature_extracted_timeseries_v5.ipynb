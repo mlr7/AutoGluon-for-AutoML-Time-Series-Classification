{
 "cells": [
  {
   "cell_type": "code",
   "execution_count": null,
   "metadata": {},
   "outputs": [],
   "source": []
  },
  {
   "cell_type": "markdown",
   "metadata": {},
   "source": [
    "### Imports"
   ]
  },
  {
   "cell_type": "code",
   "execution_count": 1,
   "metadata": {},
   "outputs": [],
   "source": [
    "%matplotlib inline\n",
    "\n",
    "# standard imports\n",
    "import numpy as np\n",
    "import pandas as pd\n",
    "\n",
    "import matplotlib.pyplot as plt\n",
    "\n",
    "# feature extraction\n",
    "from tsfresh.feature_extraction import extract_features, MinimalFCParameters\n",
    "\n",
    "# ML data prep\n",
    "from sklearn.model_selection import train_test_split\n",
    "\n",
    "# ML modeling\n",
    "import xgboost as xgb\n",
    "\n",
    "# AutoML modeling\n",
    "from autogluon.tabular import TabularPredictor"
   ]
  },
  {
   "cell_type": "markdown",
   "metadata": {},
   "source": [
    "### Data ingest"
   ]
  },
  {
   "cell_type": "code",
   "execution_count": 2,
   "metadata": {},
   "outputs": [],
   "source": [
    "data_path = 'C:/Users/m85302/Desktop/data4_local/kggl_tabular_playgrounds/4_2022_apr/'"
   ]
  },
  {
   "cell_type": "code",
   "execution_count": 3,
   "metadata": {},
   "outputs": [],
   "source": [
    "df_train = pd.read_csv(data_path + 'train.csv')\n",
    "df_train_label = pd.read_csv(data_path + 'train_labels.csv')\n",
    "\n",
    "df_test = pd.read_csv(data_path + 'test.csv')"
   ]
  },
  {
   "cell_type": "code",
   "execution_count": 4,
   "metadata": {},
   "outputs": [
    {
     "name": "stdout",
     "output_type": "stream",
     "text": [
      "(1558080, 16)\n",
      "Index(['sequence', 'subject', 'step', 'sensor_00', 'sensor_01', 'sensor_02',\n",
      "       'sensor_03', 'sensor_04', 'sensor_05', 'sensor_06', 'sensor_07',\n",
      "       'sensor_08', 'sensor_09', 'sensor_10', 'sensor_11', 'sensor_12'],\n",
      "      dtype='object')\n"
     ]
    },
    {
     "data": {
      "text/html": [
       "<div>\n",
       "<style scoped>\n",
       "    .dataframe tbody tr th:only-of-type {\n",
       "        vertical-align: middle;\n",
       "    }\n",
       "\n",
       "    .dataframe tbody tr th {\n",
       "        vertical-align: top;\n",
       "    }\n",
       "\n",
       "    .dataframe thead th {\n",
       "        text-align: right;\n",
       "    }\n",
       "</style>\n",
       "<table border=\"1\" class=\"dataframe\">\n",
       "  <thead>\n",
       "    <tr style=\"text-align: right;\">\n",
       "      <th></th>\n",
       "      <th>sequence</th>\n",
       "      <th>subject</th>\n",
       "      <th>step</th>\n",
       "      <th>sensor_00</th>\n",
       "      <th>sensor_01</th>\n",
       "      <th>sensor_02</th>\n",
       "      <th>sensor_03</th>\n",
       "      <th>sensor_04</th>\n",
       "      <th>sensor_05</th>\n",
       "      <th>sensor_06</th>\n",
       "      <th>sensor_07</th>\n",
       "      <th>sensor_08</th>\n",
       "      <th>sensor_09</th>\n",
       "      <th>sensor_10</th>\n",
       "      <th>sensor_11</th>\n",
       "      <th>sensor_12</th>\n",
       "    </tr>\n",
       "  </thead>\n",
       "  <tbody>\n",
       "    <tr>\n",
       "      <th>0</th>\n",
       "      <td>0</td>\n",
       "      <td>47</td>\n",
       "      <td>0</td>\n",
       "      <td>-0.196291</td>\n",
       "      <td>0.112395</td>\n",
       "      <td>1.0</td>\n",
       "      <td>0.329204</td>\n",
       "      <td>-1.004660</td>\n",
       "      <td>-0.131638</td>\n",
       "      <td>-0.127505</td>\n",
       "      <td>0.368702</td>\n",
       "      <td>-0.1</td>\n",
       "      <td>-0.963873</td>\n",
       "      <td>-0.985069</td>\n",
       "      <td>0.531893</td>\n",
       "      <td>4.751492</td>\n",
       "    </tr>\n",
       "    <tr>\n",
       "      <th>1</th>\n",
       "      <td>0</td>\n",
       "      <td>47</td>\n",
       "      <td>1</td>\n",
       "      <td>-0.447450</td>\n",
       "      <td>0.134454</td>\n",
       "      <td>1.0</td>\n",
       "      <td>-0.658407</td>\n",
       "      <td>0.162495</td>\n",
       "      <td>0.340314</td>\n",
       "      <td>-0.209472</td>\n",
       "      <td>-0.867176</td>\n",
       "      <td>0.2</td>\n",
       "      <td>-0.301301</td>\n",
       "      <td>0.082733</td>\n",
       "      <td>-0.231481</td>\n",
       "      <td>0.454390</td>\n",
       "    </tr>\n",
       "    <tr>\n",
       "      <th>2</th>\n",
       "      <td>0</td>\n",
       "      <td>47</td>\n",
       "      <td>2</td>\n",
       "      <td>0.326893</td>\n",
       "      <td>-0.694328</td>\n",
       "      <td>1.0</td>\n",
       "      <td>0.330088</td>\n",
       "      <td>0.473678</td>\n",
       "      <td>1.280479</td>\n",
       "      <td>-0.094718</td>\n",
       "      <td>0.535878</td>\n",
       "      <td>1.4</td>\n",
       "      <td>1.002168</td>\n",
       "      <td>0.449221</td>\n",
       "      <td>-0.586420</td>\n",
       "      <td>-4.736147</td>\n",
       "    </tr>\n",
       "  </tbody>\n",
       "</table>\n",
       "</div>"
      ],
      "text/plain": [
       "   sequence  subject  step  sensor_00  sensor_01  sensor_02  sensor_03  \\\n",
       "0         0       47     0  -0.196291   0.112395        1.0   0.329204   \n",
       "1         0       47     1  -0.447450   0.134454        1.0  -0.658407   \n",
       "2         0       47     2   0.326893  -0.694328        1.0   0.330088   \n",
       "\n",
       "   sensor_04  sensor_05  sensor_06  sensor_07  sensor_08  sensor_09  \\\n",
       "0  -1.004660  -0.131638  -0.127505   0.368702       -0.1  -0.963873   \n",
       "1   0.162495   0.340314  -0.209472  -0.867176        0.2  -0.301301   \n",
       "2   0.473678   1.280479  -0.094718   0.535878        1.4   1.002168   \n",
       "\n",
       "   sensor_10  sensor_11  sensor_12  \n",
       "0  -0.985069   0.531893   4.751492  \n",
       "1   0.082733  -0.231481   0.454390  \n",
       "2   0.449221  -0.586420  -4.736147  "
      ]
     },
     "execution_count": 4,
     "metadata": {},
     "output_type": "execute_result"
    }
   ],
   "source": [
    "print(df_train.shape)\n",
    "print(df_train.columns)\n",
    "df_train.head(3)"
   ]
  },
  {
   "cell_type": "code",
   "execution_count": 5,
   "metadata": {},
   "outputs": [
    {
     "name": "stdout",
     "output_type": "stream",
     "text": [
      "(25968, 2)\n",
      "Index(['sequence', 'state'], dtype='object')\n"
     ]
    },
    {
     "data": {
      "text/html": [
       "<div>\n",
       "<style scoped>\n",
       "    .dataframe tbody tr th:only-of-type {\n",
       "        vertical-align: middle;\n",
       "    }\n",
       "\n",
       "    .dataframe tbody tr th {\n",
       "        vertical-align: top;\n",
       "    }\n",
       "\n",
       "    .dataframe thead th {\n",
       "        text-align: right;\n",
       "    }\n",
       "</style>\n",
       "<table border=\"1\" class=\"dataframe\">\n",
       "  <thead>\n",
       "    <tr style=\"text-align: right;\">\n",
       "      <th></th>\n",
       "      <th>sequence</th>\n",
       "      <th>state</th>\n",
       "    </tr>\n",
       "  </thead>\n",
       "  <tbody>\n",
       "    <tr>\n",
       "      <th>0</th>\n",
       "      <td>0</td>\n",
       "      <td>0</td>\n",
       "    </tr>\n",
       "    <tr>\n",
       "      <th>1</th>\n",
       "      <td>1</td>\n",
       "      <td>1</td>\n",
       "    </tr>\n",
       "    <tr>\n",
       "      <th>2</th>\n",
       "      <td>2</td>\n",
       "      <td>1</td>\n",
       "    </tr>\n",
       "  </tbody>\n",
       "</table>\n",
       "</div>"
      ],
      "text/plain": [
       "   sequence  state\n",
       "0         0      0\n",
       "1         1      1\n",
       "2         2      1"
      ]
     },
     "execution_count": 5,
     "metadata": {},
     "output_type": "execute_result"
    }
   ],
   "source": [
    "print(df_train_label.shape)\n",
    "print(df_train_label.columns)\n",
    "df_train_label.head(3)"
   ]
  },
  {
   "cell_type": "code",
   "execution_count": 6,
   "metadata": {},
   "outputs": [
    {
     "name": "stdout",
     "output_type": "stream",
     "text": [
      "(733080, 16)\n",
      "Index(['sequence', 'subject', 'step', 'sensor_00', 'sensor_01', 'sensor_02',\n",
      "       'sensor_03', 'sensor_04', 'sensor_05', 'sensor_06', 'sensor_07',\n",
      "       'sensor_08', 'sensor_09', 'sensor_10', 'sensor_11', 'sensor_12'],\n",
      "      dtype='object')\n"
     ]
    },
    {
     "data": {
      "text/html": [
       "<div>\n",
       "<style scoped>\n",
       "    .dataframe tbody tr th:only-of-type {\n",
       "        vertical-align: middle;\n",
       "    }\n",
       "\n",
       "    .dataframe tbody tr th {\n",
       "        vertical-align: top;\n",
       "    }\n",
       "\n",
       "    .dataframe thead th {\n",
       "        text-align: right;\n",
       "    }\n",
       "</style>\n",
       "<table border=\"1\" class=\"dataframe\">\n",
       "  <thead>\n",
       "    <tr style=\"text-align: right;\">\n",
       "      <th></th>\n",
       "      <th>sequence</th>\n",
       "      <th>subject</th>\n",
       "      <th>step</th>\n",
       "      <th>sensor_00</th>\n",
       "      <th>sensor_01</th>\n",
       "      <th>sensor_02</th>\n",
       "      <th>sensor_03</th>\n",
       "      <th>sensor_04</th>\n",
       "      <th>sensor_05</th>\n",
       "      <th>sensor_06</th>\n",
       "      <th>sensor_07</th>\n",
       "      <th>sensor_08</th>\n",
       "      <th>sensor_09</th>\n",
       "      <th>sensor_10</th>\n",
       "      <th>sensor_11</th>\n",
       "      <th>sensor_12</th>\n",
       "    </tr>\n",
       "  </thead>\n",
       "  <tbody>\n",
       "    <tr>\n",
       "      <th>0</th>\n",
       "      <td>25968</td>\n",
       "      <td>684</td>\n",
       "      <td>0</td>\n",
       "      <td>2.427357</td>\n",
       "      <td>19.639706</td>\n",
       "      <td>1.0</td>\n",
       "      <td>-1.466372</td>\n",
       "      <td>-1.289973</td>\n",
       "      <td>-4.207928</td>\n",
       "      <td>2.486339</td>\n",
       "      <td>-2.493893</td>\n",
       "      <td>8.0</td>\n",
       "      <td>-1.123555</td>\n",
       "      <td>-1.673048</td>\n",
       "      <td>10.980453</td>\n",
       "      <td>0.419011</td>\n",
       "    </tr>\n",
       "    <tr>\n",
       "      <th>1</th>\n",
       "      <td>25968</td>\n",
       "      <td>684</td>\n",
       "      <td>1</td>\n",
       "      <td>-4.950541</td>\n",
       "      <td>-21.747899</td>\n",
       "      <td>1.0</td>\n",
       "      <td>0.983186</td>\n",
       "      <td>-0.569053</td>\n",
       "      <td>1.845924</td>\n",
       "      <td>-3.887978</td>\n",
       "      <td>1.727481</td>\n",
       "      <td>-2.9</td>\n",
       "      <td>0.395231</td>\n",
       "      <td>-0.882233</td>\n",
       "      <td>-1.871399</td>\n",
       "      <td>-0.008525</td>\n",
       "    </tr>\n",
       "    <tr>\n",
       "      <th>2</th>\n",
       "      <td>25968</td>\n",
       "      <td>684</td>\n",
       "      <td>2</td>\n",
       "      <td>1.136012</td>\n",
       "      <td>-10.756303</td>\n",
       "      <td>1.0</td>\n",
       "      <td>1.016814</td>\n",
       "      <td>0.964157</td>\n",
       "      <td>2.454749</td>\n",
       "      <td>0.312386</td>\n",
       "      <td>1.154198</td>\n",
       "      <td>-5.6</td>\n",
       "      <td>1.114162</td>\n",
       "      <td>1.525273</td>\n",
       "      <td>-11.584362</td>\n",
       "      <td>0.139812</td>\n",
       "    </tr>\n",
       "  </tbody>\n",
       "</table>\n",
       "</div>"
      ],
      "text/plain": [
       "   sequence  subject  step  sensor_00  sensor_01  sensor_02  sensor_03  \\\n",
       "0     25968      684     0   2.427357  19.639706        1.0  -1.466372   \n",
       "1     25968      684     1  -4.950541 -21.747899        1.0   0.983186   \n",
       "2     25968      684     2   1.136012 -10.756303        1.0   1.016814   \n",
       "\n",
       "   sensor_04  sensor_05  sensor_06  sensor_07  sensor_08  sensor_09  \\\n",
       "0  -1.289973  -4.207928   2.486339  -2.493893        8.0  -1.123555   \n",
       "1  -0.569053   1.845924  -3.887978   1.727481       -2.9   0.395231   \n",
       "2   0.964157   2.454749   0.312386   1.154198       -5.6   1.114162   \n",
       "\n",
       "   sensor_10  sensor_11  sensor_12  \n",
       "0  -1.673048  10.980453   0.419011  \n",
       "1  -0.882233  -1.871399  -0.008525  \n",
       "2   1.525273 -11.584362   0.139812  "
      ]
     },
     "execution_count": 6,
     "metadata": {},
     "output_type": "execute_result"
    }
   ],
   "source": [
    "print(df_test.shape)\n",
    "print(df_test.columns)\n",
    "df_test.head(3)"
   ]
  },
  {
   "cell_type": "markdown",
   "metadata": {},
   "source": [
    "### Extract features from time series"
   ]
  },
  {
   "cell_type": "code",
   "execution_count": 7,
   "metadata": {},
   "outputs": [],
   "source": [
    "df_train_seq_feat_extract = df_train[['sequence', 'step', 'sensor_00', 'sensor_01', 'sensor_02',\n",
    "       'sensor_03', 'sensor_04', 'sensor_05', 'sensor_06', 'sensor_07',\n",
    "       'sensor_08', 'sensor_09', 'sensor_10', 'sensor_11', 'sensor_12']]"
   ]
  },
  {
   "cell_type": "code",
   "execution_count": 8,
   "metadata": {},
   "outputs": [],
   "source": [
    "df_test_seq_feat_extract = df_test[['sequence', 'step', 'sensor_00', 'sensor_01', 'sensor_02',\n",
    "       'sensor_03', 'sensor_04', 'sensor_05', 'sensor_06', 'sensor_07',\n",
    "       'sensor_08', 'sensor_09', 'sensor_10', 'sensor_11', 'sensor_12']]"
   ]
  },
  {
   "cell_type": "code",
   "execution_count": 9,
   "metadata": {},
   "outputs": [
    {
     "name": "stderr",
     "output_type": "stream",
     "text": [
      "Feature Extraction: 100%|██████████████████████████████████████████████████████████████| 20/20 [01:00<00:00,  3.04s/it]\n"
     ]
    }
   ],
   "source": [
    "df_X_train = extract_features(df_train_seq_feat_extract, \n",
    "                         default_fc_parameters=MinimalFCParameters(), \n",
    "                         column_id=\"sequence\", \n",
    "                         column_sort=\"step\")"
   ]
  },
  {
   "cell_type": "code",
   "execution_count": 10,
   "metadata": {},
   "outputs": [
    {
     "name": "stderr",
     "output_type": "stream",
     "text": [
      "Feature Extraction: 100%|██████████████████████████████████████████████████████████████| 20/20 [00:31<00:00,  1.56s/it]\n"
     ]
    }
   ],
   "source": [
    "df_y_submit = extract_features(df_test_seq_feat_extract , \n",
    "                             default_fc_parameters=MinimalFCParameters(), \n",
    "                             column_id=\"sequence\", \n",
    "                             column_sort=\"step\")"
   ]
  },
  {
   "cell_type": "code",
   "execution_count": 11,
   "metadata": {},
   "outputs": [],
   "source": [
    "df_y_train = pd.Series(df_train_label.state).astype(int)"
   ]
  },
  {
   "cell_type": "markdown",
   "metadata": {},
   "source": [
    "### ML dataset creation"
   ]
  },
  {
   "cell_type": "code",
   "execution_count": 19,
   "metadata": {},
   "outputs": [],
   "source": [
    "#X = df_X_train.values\n",
    "#y = df_y_train.values\n",
    "\n",
    "#print(X.shape, y.shape)\n",
    "\n",
    "#X_train, X_val, y_train, y_val = train_test_split(X, y, train_size=0.8) # random_state=77\n",
    "#print(X_train.shape, y_train.shape, X_val.shape, y_val.shape)"
   ]
  },
  {
   "cell_type": "code",
   "execution_count": 20,
   "metadata": {},
   "outputs": [],
   "source": [
    "df_X_train, df_X_test, df_y_train, df_y_test = train_test_split(df_X_train, df_y_train, train_size=0.8) # random_state=77\n",
    "\n",
    "df_X_train = df_X_train.reset_index(drop=True)\n",
    "df_X_test = df_X_test.reset_index(drop=True)\n",
    "df_y_train = df_y_train.reset_index(drop=True)\n",
    "df_y_test = df_y_test.reset_index(drop=True)"
   ]
  },
  {
   "cell_type": "code",
   "execution_count": 21,
   "metadata": {},
   "outputs": [
    {
     "name": "stdout",
     "output_type": "stream",
     "text": [
      "(10636, 130) (2659, 130) (10636,) (2659,)\n"
     ]
    },
    {
     "data": {
      "text/plain": [
       "0    0\n",
       "1    1\n",
       "2    1\n",
       "Name: state, dtype: int32"
      ]
     },
     "execution_count": 21,
     "metadata": {},
     "output_type": "execute_result"
    }
   ],
   "source": [
    "print(df_X_train.shape, df_X_test.shape, df_y_train.shape, df_y_test.shape)\n",
    "df_y_test.head(3)"
   ]
  },
  {
   "cell_type": "code",
   "execution_count": 33,
   "metadata": {},
   "outputs": [],
   "source": [
    "from sklearn.linear_model import LogisticRegression"
   ]
  },
  {
   "cell_type": "code",
   "execution_count": 34,
   "metadata": {},
   "outputs": [],
   "source": [
    "clf_lr1 = LogisticRegression()"
   ]
  },
  {
   "cell_type": "code",
   "execution_count": 36,
   "metadata": {},
   "outputs": [
    {
     "name": "stderr",
     "output_type": "stream",
     "text": [
      "C:\\Users\\m85302\\Anaconda3b\\envs\\seqDarts1\\lib\\site-packages\\sklearn\\linear_model\\_logistic.py:814: ConvergenceWarning: lbfgs failed to converge (status=1):\n",
      "STOP: TOTAL NO. of ITERATIONS REACHED LIMIT.\n",
      "\n",
      "Increase the number of iterations (max_iter) or scale the data as shown in:\n",
      "    https://scikit-learn.org/stable/modules/preprocessing.html\n",
      "Please also refer to the documentation for alternative solver options:\n",
      "    https://scikit-learn.org/stable/modules/linear_model.html#logistic-regression\n",
      "  n_iter_i = _check_optimize_result(\n"
     ]
    },
    {
     "data": {
      "text/plain": [
       "LogisticRegression()"
      ]
     },
     "execution_count": 36,
     "metadata": {},
     "output_type": "execute_result"
    }
   ],
   "source": [
    "clf_lr1.fit(df_X_train, df_y_train)"
   ]
  },
  {
   "cell_type": "code",
   "execution_count": 37,
   "metadata": {},
   "outputs": [],
   "source": [
    "y_pred_lr1 = clf_lr1.predict(df_X_test)"
   ]
  },
  {
   "cell_type": "code",
   "execution_count": 39,
   "metadata": {},
   "outputs": [
    {
     "name": "stdout",
     "output_type": "stream",
     "text": [
      "Accuracy:  0.6671681083113953\n",
      "Precision:  0.6889089269612263\n",
      "Recall:  0.5858895705521472\n",
      "F1:  0.6332366348943224\n",
      "ROC_AUC: 0.665638512213343\n",
      "[[1010  345]\n",
      " [ 540  764]]\n",
      " \n"
     ]
    }
   ],
   "source": [
    "y_pred = y_pred_lr1\n",
    "y_test = df_y_test.values\n",
    "\n",
    "score_accuracy = accuracy_score(y_test, y_pred)\n",
    "score_precision = precision_score(y_test, y_pred)\n",
    "score_recall = recall_score(y_test, y_pred)\n",
    "score_f1 = f1_score(y_test, y_pred)\n",
    "score_roc_auc = roc_auc_score(y_test, y_pred)\n",
    "score_confmat = confusion_matrix(y_test, y_pred)\n",
    "    \n",
    "print('Accuracy: ', score_accuracy)\n",
    "print('Precision: ', score_precision)\n",
    "print('Recall: ', score_recall)\n",
    "print('F1: ', score_f1)\n",
    "print('ROC_AUC:', score_roc_auc)\n",
    "print(score_confmat)\n",
    "#viz_confusion_matrix(score_confmat)\n",
    "print(\" \")\n",
    "\n",
    "#Accuracy:  0.6671681083113953\n",
    "#Precision:  0.6889089269612263\n",
    "#Recall:  0.5858895705521472\n",
    "#F1:  0.6332366348943224\n",
    "#ROC_AUC: 0.665638512213343\n",
    "#[[1010  345]\n",
    "# [ 540  764]]"
   ]
  },
  {
   "cell_type": "code",
   "execution_count": 82,
   "metadata": {},
   "outputs": [
    {
     "data": {
      "text/html": [
       "<div>\n",
       "<style scoped>\n",
       "    .dataframe tbody tr th:only-of-type {\n",
       "        vertical-align: middle;\n",
       "    }\n",
       "\n",
       "    .dataframe tbody tr th {\n",
       "        vertical-align: top;\n",
       "    }\n",
       "\n",
       "    .dataframe thead th {\n",
       "        text-align: right;\n",
       "    }\n",
       "</style>\n",
       "<table border=\"1\" class=\"dataframe\">\n",
       "  <thead>\n",
       "    <tr style=\"text-align: right;\">\n",
       "      <th></th>\n",
       "      <th>Model</th>\n",
       "      <th>Accuracy</th>\n",
       "    </tr>\n",
       "  </thead>\n",
       "  <tbody>\n",
       "    <tr>\n",
       "      <th>0</th>\n",
       "      <td>Logistic Regression</td>\n",
       "      <td>0.667168</td>\n",
       "    </tr>\n",
       "    <tr>\n",
       "      <th>1</th>\n",
       "      <td>XGBoost</td>\n",
       "      <td>0.000000</td>\n",
       "    </tr>\n",
       "    <tr>\n",
       "      <th>2</th>\n",
       "      <td>AutoGluon</td>\n",
       "      <td>0.000000</td>\n",
       "    </tr>\n",
       "  </tbody>\n",
       "</table>\n",
       "</div>"
      ],
      "text/plain": [
       "                 Model  Accuracy\n",
       "0  Logistic Regression  0.667168\n",
       "1              XGBoost  0.000000\n",
       "2            AutoGluon  0.000000"
      ]
     },
     "execution_count": 82,
     "metadata": {},
     "output_type": "execute_result"
    }
   ],
   "source": [
    "#df_results = pd.DataFrame(columns=['Model': ['Logistic Regression]', 'Accuracy':[0.6671681083113953], 'Precision', 'Recall', 'F1', 'ROC_AUC'])\n",
    "\n",
    "df_results = pd.DataFrame({'Model': ['Logistic Regression', 'XGBoost', 'AutoGluon'], 'Accuracy':[0,0,0]})\n",
    "\n",
    "#df_results['Model'][0]= 'Logistic Regression'\n",
    "#df_results['Accuracy'][0] = 0.6671681083113953 #score_accuracy\n",
    "\n",
    "#df_results['Accuracy'].loc(0) = 0.6671681083113953\n",
    "df_results.iloc[0, df_results.columns.get_loc('Accuracy')] = 0.6671681083113953\n",
    "\n",
    "df_results"
   ]
  },
  {
   "cell_type": "markdown",
   "metadata": {},
   "source": [
    "### XGBoost baseline"
   ]
  },
  {
   "cell_type": "code",
   "execution_count": 40,
   "metadata": {},
   "outputs": [
    {
     "name": "stderr",
     "output_type": "stream",
     "text": [
      "C:\\Users\\m85302\\Anaconda3b\\envs\\seqDarts1\\lib\\site-packages\\xgboost\\sklearn.py:1224: UserWarning: The use of label encoder in XGBClassifier is deprecated and will be removed in a future release. To remove this warning, do the following: 1) Pass option use_label_encoder=False when constructing XGBClassifier object; and 2) Encode your labels (y) as integers starting with 0, i.e. 0, 1, 2, ..., [num_class - 1].\n",
      "  warnings.warn(label_encoder_deprecation_msg, UserWarning)\n"
     ]
    },
    {
     "name": "stdout",
     "output_type": "stream",
     "text": [
      "[21:39:00] WARNING: D:\\bld\\xgboost-split_1645118015404\\work\\src\\learner.cc:1115: Starting in XGBoost 1.3.0, the default evaluation metric used with the objective 'binary:logistic' was changed from 'error' to 'logloss'. Explicitly set eval_metric if you'd like to restore the old behavior.\n"
     ]
    },
    {
     "data": {
      "text/plain": [
       "XGBClassifier(base_score=0.5, booster='gbtree', colsample_bylevel=1,\n",
       "              colsample_bynode=1, colsample_bytree=1, enable_categorical=False,\n",
       "              gamma=0, gpu_id=-1, importance_type=None,\n",
       "              interaction_constraints='', learning_rate=0.300000012,\n",
       "              max_delta_step=0, max_depth=6, min_child_weight=1, missing=nan,\n",
       "              monotone_constraints='()', n_estimators=100, n_jobs=8,\n",
       "              num_parallel_tree=1, predictor='auto', random_state=0,\n",
       "              reg_alpha=0, reg_lambda=1, scale_pos_weight=1, subsample=1,\n",
       "              tree_method='exact', validate_parameters=1, verbosity=None)"
      ]
     },
     "execution_count": 40,
     "metadata": {},
     "output_type": "execute_result"
    }
   ],
   "source": [
    "clf_xgb1 = xgb.XGBClassifier()\n",
    "#clf_xgb1.fit(X_train, y_train)\n",
    "clf_xgb1.fit(df_X_train, df_y_train)"
   ]
  },
  {
   "cell_type": "code",
   "execution_count": 41,
   "metadata": {},
   "outputs": [],
   "source": [
    "y_pred = clf_xgb1.predict(df_X_test)"
   ]
  },
  {
   "cell_type": "code",
   "execution_count": 44,
   "metadata": {},
   "outputs": [],
   "source": [
    "y_test =df_y_test.values"
   ]
  },
  {
   "cell_type": "code",
   "execution_count": 45,
   "metadata": {},
   "outputs": [
    {
     "name": "stdout",
     "output_type": "stream",
     "text": [
      "Accuracy:  0.8149680330951485\n",
      "Precision:  0.7963503649635036\n",
      "Recall:  0.8366564417177914\n",
      "F1:  0.8160059835452507\n",
      "ROC_AUC: 0.8153761913386004\n",
      "[[1076  279]\n",
      " [ 213 1091]]\n",
      " \n"
     ]
    }
   ],
   "source": [
    "score_accuracy = accuracy_score(y_test, y_pred)\n",
    "score_precision = precision_score(y_test, y_pred)\n",
    "score_recall = recall_score(y_test, y_pred)\n",
    "score_f1 = f1_score(y_test, y_pred)\n",
    "score_roc_auc = roc_auc_score(y_test, y_pred)\n",
    "score_confmat = confusion_matrix(y_test, y_pred)\n",
    "    \n",
    "print('Accuracy: ', score_accuracy)\n",
    "print('Precision: ', score_precision)\n",
    "print('Recall: ', score_recall)\n",
    "print('F1: ', score_f1)\n",
    "print('ROC_AUC:', score_roc_auc)\n",
    "print(score_confmat)\n",
    "#viz_confusion_matrix(score_confmat)\n",
    "print(\" \")\n",
    "\n",
    "# Accuracy:  0.8149680330951485\n",
    "# Precision:  0.7963503649635036\n",
    "# Recall:  0.8366564417177914\n",
    "# F1:  0.8160059835452507\n",
    "# ROC_AUC: 0.8153761913386004\n",
    "# [[1076  279]\n",
    "# [ 213 1091]]"
   ]
  },
  {
   "cell_type": "code",
   "execution_count": 83,
   "metadata": {},
   "outputs": [
    {
     "name": "stderr",
     "output_type": "stream",
     "text": [
      "<ipython-input-83-4d2d6786637f>:1: SettingWithCopyWarning: \n",
      "A value is trying to be set on a copy of a slice from a DataFrame\n",
      "\n",
      "See the caveats in the documentation: https://pandas.pydata.org/pandas-docs/stable/user_guide/indexing.html#returning-a-view-versus-a-copy\n",
      "  df_results['Model'][1]= 'XGBoost'\n"
     ]
    },
    {
     "data": {
      "text/html": [
       "<div>\n",
       "<style scoped>\n",
       "    .dataframe tbody tr th:only-of-type {\n",
       "        vertical-align: middle;\n",
       "    }\n",
       "\n",
       "    .dataframe tbody tr th {\n",
       "        vertical-align: top;\n",
       "    }\n",
       "\n",
       "    .dataframe thead th {\n",
       "        text-align: right;\n",
       "    }\n",
       "</style>\n",
       "<table border=\"1\" class=\"dataframe\">\n",
       "  <thead>\n",
       "    <tr style=\"text-align: right;\">\n",
       "      <th></th>\n",
       "      <th>Model</th>\n",
       "      <th>Accuracy</th>\n",
       "    </tr>\n",
       "  </thead>\n",
       "  <tbody>\n",
       "    <tr>\n",
       "      <th>0</th>\n",
       "      <td>Logistic Regression</td>\n",
       "      <td>0.667168</td>\n",
       "    </tr>\n",
       "    <tr>\n",
       "      <th>1</th>\n",
       "      <td>XGBoost</td>\n",
       "      <td>0.814968</td>\n",
       "    </tr>\n",
       "    <tr>\n",
       "      <th>2</th>\n",
       "      <td>AutoGluon</td>\n",
       "      <td>0.000000</td>\n",
       "    </tr>\n",
       "  </tbody>\n",
       "</table>\n",
       "</div>"
      ],
      "text/plain": [
       "                 Model  Accuracy\n",
       "0  Logistic Regression  0.667168\n",
       "1              XGBoost  0.814968\n",
       "2            AutoGluon  0.000000"
      ]
     },
     "execution_count": 83,
     "metadata": {},
     "output_type": "execute_result"
    }
   ],
   "source": [
    "df_results['Model'][1]= 'XGBoost'\n",
    "\n",
    "#df_results['Accuracy'][1] = 0.8149680330951485\n",
    "\n",
    "df_results.iloc[1, df_results.columns.get_loc('Accuracy')] = 0.8149680330951485\n",
    "\n",
    "df_results"
   ]
  },
  {
   "cell_type": "markdown",
   "metadata": {},
   "source": [
    "### XGBoost feature importance"
   ]
  },
  {
   "cell_type": "code",
   "execution_count": 47,
   "metadata": {},
   "outputs": [],
   "source": [
    "#df_X_train.columns.to_list()"
   ]
  },
  {
   "cell_type": "code",
   "execution_count": 48,
   "metadata": {},
   "outputs": [],
   "source": [
    "#clf_xgb1.get_booster().feature_names = df_X_train.columns.to_list() # use if dealing with numpy arrays"
   ]
  },
  {
   "cell_type": "code",
   "execution_count": 49,
   "metadata": {},
   "outputs": [
    {
     "data": {
      "image/png": "[encoded data removed]",
      "text/plain": [
       "<Figure size 504x432 with 1 Axes>"
      ]
     },
     "metadata": {
      "needs_background": "light"
     },
     "output_type": "display_data"
    }
   ],
   "source": [
    "fig, ax = plt.subplots(figsize=(7, 6))\n",
    "xgb.plot_importance(clf_xgb1, max_num_features=10, \n",
    "                    importance_type=\"weight\", ax=ax); #\"weight\", gain\", \"cover\""
   ]
  },
  {
   "cell_type": "markdown",
   "metadata": {},
   "source": [
    "How the importance is calculated: either \"weight\", \"gain\", or \"cover\"\n",
    "    \n",
    "  * \"weight\" is the number of times a feature appears in a tree\n",
    "  * \"gain\" is the average gain of splits which use the feature\n",
    "  * \"cover\" is the average coverage of splits which use the feature\n",
    "     where coverage is defined as the number of samples affected by the split"
   ]
  },
  {
   "cell_type": "markdown",
   "metadata": {},
   "source": [
    "### AutoGluon-1"
   ]
  },
  {
   "cell_type": "code",
   "execution_count": 50,
   "metadata": {},
   "outputs": [],
   "source": [
    "df_Xy_train = df_X_train.copy()\n",
    "df_Xy_train['target'] = df_y_train.values"
   ]
  },
  {
   "cell_type": "code",
   "execution_count": 52,
   "metadata": {},
   "outputs": [
    {
     "name": "stdout",
     "output_type": "stream",
     "text": [
      "(10636, 131)\n"
     ]
    },
    {
     "data": {
      "text/html": [
       "<div>\n",
       "<style scoped>\n",
       "    .dataframe tbody tr th:only-of-type {\n",
       "        vertical-align: middle;\n",
       "    }\n",
       "\n",
       "    .dataframe tbody tr th {\n",
       "        vertical-align: top;\n",
       "    }\n",
       "\n",
       "    .dataframe thead th {\n",
       "        text-align: right;\n",
       "    }\n",
       "</style>\n",
       "<table border=\"1\" class=\"dataframe\">\n",
       "  <thead>\n",
       "    <tr style=\"text-align: right;\">\n",
       "      <th></th>\n",
       "      <th>sensor_00__sum_values</th>\n",
       "      <th>sensor_00__median</th>\n",
       "      <th>sensor_00__mean</th>\n",
       "      <th>sensor_00__length</th>\n",
       "      <th>sensor_00__standard_deviation</th>\n",
       "      <th>sensor_00__variance</th>\n",
       "      <th>sensor_00__root_mean_square</th>\n",
       "      <th>sensor_00__maximum</th>\n",
       "      <th>sensor_00__absolute_maximum</th>\n",
       "      <th>sensor_00__minimum</th>\n",
       "      <th>...</th>\n",
       "      <th>sensor_12__median</th>\n",
       "      <th>sensor_12__mean</th>\n",
       "      <th>sensor_12__length</th>\n",
       "      <th>sensor_12__standard_deviation</th>\n",
       "      <th>sensor_12__variance</th>\n",
       "      <th>sensor_12__root_mean_square</th>\n",
       "      <th>sensor_12__maximum</th>\n",
       "      <th>sensor_12__absolute_maximum</th>\n",
       "      <th>sensor_12__minimum</th>\n",
       "      <th>target</th>\n",
       "    </tr>\n",
       "  </thead>\n",
       "  <tbody>\n",
       "    <tr>\n",
       "      <th>0</th>\n",
       "      <td>1.350850</td>\n",
       "      <td>-0.029366</td>\n",
       "      <td>0.022514</td>\n",
       "      <td>60.0</td>\n",
       "      <td>0.711416</td>\n",
       "      <td>0.506112</td>\n",
       "      <td>0.711772</td>\n",
       "      <td>2.265070</td>\n",
       "      <td>2.265070</td>\n",
       "      <td>-1.391808</td>\n",
       "      <td>...</td>\n",
       "      <td>2.038789</td>\n",
       "      <td>0.122783</td>\n",
       "      <td>60.0</td>\n",
       "      <td>12.306767</td>\n",
       "      <td>151.456503</td>\n",
       "      <td>12.307379</td>\n",
       "      <td>20.547741</td>\n",
       "      <td>23.405371</td>\n",
       "      <td>-23.405371</td>\n",
       "      <td>0</td>\n",
       "    </tr>\n",
       "    <tr>\n",
       "      <th>1</th>\n",
       "      <td>-0.596600</td>\n",
       "      <td>-0.147218</td>\n",
       "      <td>-0.009943</td>\n",
       "      <td>60.0</td>\n",
       "      <td>2.033090</td>\n",
       "      <td>4.133454</td>\n",
       "      <td>2.033114</td>\n",
       "      <td>6.101236</td>\n",
       "      <td>6.101236</td>\n",
       "      <td>-5.166924</td>\n",
       "      <td>...</td>\n",
       "      <td>-2.503410</td>\n",
       "      <td>0.283845</td>\n",
       "      <td>60.0</td>\n",
       "      <td>27.257205</td>\n",
       "      <td>742.955240</td>\n",
       "      <td>27.258683</td>\n",
       "      <td>78.328218</td>\n",
       "      <td>78.328218</td>\n",
       "      <td>-72.893436</td>\n",
       "      <td>0</td>\n",
       "    </tr>\n",
       "    <tr>\n",
       "      <th>2</th>\n",
       "      <td>-0.886399</td>\n",
       "      <td>0.043277</td>\n",
       "      <td>-0.014773</td>\n",
       "      <td>60.0</td>\n",
       "      <td>0.795872</td>\n",
       "      <td>0.633412</td>\n",
       "      <td>0.796009</td>\n",
       "      <td>3.303709</td>\n",
       "      <td>3.303709</td>\n",
       "      <td>-2.632921</td>\n",
       "      <td>...</td>\n",
       "      <td>-22.838875</td>\n",
       "      <td>0.223231</td>\n",
       "      <td>60.0</td>\n",
       "      <td>192.852018</td>\n",
       "      <td>37191.900697</td>\n",
       "      <td>192.852147</td>\n",
       "      <td>315.517903</td>\n",
       "      <td>315.517903</td>\n",
       "      <td>-296.341006</td>\n",
       "      <td>0</td>\n",
       "    </tr>\n",
       "  </tbody>\n",
       "</table>\n",
       "<p>3 rows × 131 columns</p>\n",
       "</div>"
      ],
      "text/plain": [
       "   sensor_00__sum_values  sensor_00__median  sensor_00__mean  \\\n",
       "0               1.350850          -0.029366         0.022514   \n",
       "1              -0.596600          -0.147218        -0.009943   \n",
       "2              -0.886399           0.043277        -0.014773   \n",
       "\n",
       "   sensor_00__length  sensor_00__standard_deviation  sensor_00__variance  \\\n",
       "0               60.0                       0.711416             0.506112   \n",
       "1               60.0                       2.033090             4.133454   \n",
       "2               60.0                       0.795872             0.633412   \n",
       "\n",
       "   sensor_00__root_mean_square  sensor_00__maximum  \\\n",
       "0                     0.711772            2.265070   \n",
       "1                     2.033114            6.101236   \n",
       "2                     0.796009            3.303709   \n",
       "\n",
       "   sensor_00__absolute_maximum  sensor_00__minimum  ...  sensor_12__median  \\\n",
       "0                     2.265070           -1.391808  ...           2.038789   \n",
       "1                     6.101236           -5.166924  ...          -2.503410   \n",
       "2                     3.303709           -2.632921  ...         -22.838875   \n",
       "\n",
       "   sensor_12__mean  sensor_12__length  sensor_12__standard_deviation  \\\n",
       "0         0.122783               60.0                      12.306767   \n",
       "1         0.283845               60.0                      27.257205   \n",
       "2         0.223231               60.0                     192.852018   \n",
       "\n",
       "   sensor_12__variance  sensor_12__root_mean_square  sensor_12__maximum  \\\n",
       "0           151.456503                    12.307379           20.547741   \n",
       "1           742.955240                    27.258683           78.328218   \n",
       "2         37191.900697                   192.852147          315.517903   \n",
       "\n",
       "   sensor_12__absolute_maximum  sensor_12__minimum  target  \n",
       "0                    23.405371          -23.405371       0  \n",
       "1                    78.328218          -72.893436       0  \n",
       "2                   315.517903         -296.341006       0  \n",
       "\n",
       "[3 rows x 131 columns]"
      ]
     },
     "execution_count": 52,
     "metadata": {},
     "output_type": "execute_result"
    }
   ],
   "source": [
    "print(df_Xy_train.shape)\n",
    "df_Xy_train.head(3)"
   ]
  },
  {
   "cell_type": "code",
   "execution_count": 53,
   "metadata": {},
   "outputs": [
    {
     "data": {
      "text/plain": [
       "1    5419\n",
       "0    5217\n",
       "Name: target, dtype: int64"
      ]
     },
     "execution_count": 53,
     "metadata": {},
     "output_type": "execute_result"
    }
   ],
   "source": [
    "df_Xy_train['target'].value_counts() # close to balanced classes . . . close enought !"
   ]
  },
  {
   "cell_type": "code",
   "execution_count": 54,
   "metadata": {},
   "outputs": [],
   "source": [
    "label = 'target'\n",
    "metric = 'accuracy'\n",
    "\n",
    "save_path = 'autogluon1/'\n",
    "\n",
    "#time_limit = 120 * 60\n",
    "#time_limit = 40 * 60\n",
    "time_limit = 60 * 60"
   ]
  },
  {
   "cell_type": "code",
   "execution_count": 55,
   "metadata": {},
   "outputs": [
    {
     "name": "stderr",
     "output_type": "stream",
     "text": [
      "No path specified. Models will be saved in: \"AutogluonModels/ag-20220411_044146\\\"\n",
      "Presets specified: ['best_quality']\n",
      "Beginning AutoGluon training ... Time limit = 3600s\n",
      "AutoGluon will save models to \"AutogluonModels/ag-20220411_044146\\\"\n",
      "AutoGluon Version:  0.4.0\n",
      "Python Version:     3.8.5\n",
      "Operating System:   Windows\n",
      "Train Data Rows:    10636\n",
      "Train Data Columns: 130\n",
      "Label Column: target\n",
      "Preprocessing data ...\n",
      "AutoGluon infers your prediction problem is: 'binary' (because only two unique label-values observed).\n",
      "\t2 unique label values:  [0, 1]\n",
      "\tIf 'binary' is not the correct problem_type, please manually specify the problem_type parameter during predictor init (You may specify problem_type as one of: ['binary', 'multiclass', 'regression'])\n",
      "Selected class <--> label mapping:  class 1 = 1, class 0 = 0\n",
      "Using Feature Generators to preprocess the data ...\n",
      "Fitting AutoMLPipelineFeatureGenerator...\n",
      "\tAvailable Memory:                    18671.74 MB\n",
      "\tTrain Data (Original)  Memory Usage: 11.06 MB (0.1% of available memory)\n",
      "\tInferring data type of each feature based on column values. Set feature_metadata_in to manually specify special dtypes of the features.\n",
      "\tStage 1 Generators:\n",
      "\t\tFitting AsTypeFeatureGenerator...\n",
      "\tStage 2 Generators:\n",
      "\t\tFitting FillNaFeatureGenerator...\n",
      "\tStage 3 Generators:\n",
      "\t\tFitting IdentityFeatureGenerator...\n",
      "\tStage 4 Generators:\n",
      "\t\tFitting DropUniqueFeatureGenerator...\n",
      "\tUseless Original Features (Count: 13): ['sensor_00__length', 'sensor_01__length', 'sensor_02__length', 'sensor_03__length', 'sensor_04__length', 'sensor_05__length', 'sensor_06__length', 'sensor_07__length', 'sensor_08__length', 'sensor_09__length', 'sensor_10__length', 'sensor_11__length', 'sensor_12__length']\n",
      "\t\tThese features carry no predictive signal and should be manually investigated.\n",
      "\t\tThis is typically a feature which has the same value for all rows.\n",
      "\t\tThese features do not need to be present at inference time.\n",
      "\tTypes of features in original data (raw dtype, special dtypes):\n",
      "\t\t('float', []) : 117 | ['sensor_00__sum_values', 'sensor_00__median', 'sensor_00__mean', 'sensor_00__standard_deviation', 'sensor_00__variance', ...]\n",
      "\tTypes of features in processed data (raw dtype, special dtypes):\n",
      "\t\t('float', []) : 117 | ['sensor_00__sum_values', 'sensor_00__median', 'sensor_00__mean', 'sensor_00__standard_deviation', 'sensor_00__variance', ...]\n",
      "\t0.2s = Fit runtime\n",
      "\t117 features in original data used to generate 117 features in processed data.\n",
      "\tTrain Data (Processed) Memory Usage: 9.96 MB (0.1% of available memory)\n",
      "Data preprocessing and feature engineering runtime = 0.28s ...\n",
      "AutoGluon will gauge predictive performance using evaluation metric: 'accuracy'\n",
      "\tTo change this, specify the eval_metric parameter of Predictor()\n",
      "AutoGluon will fit 2 stack levels (L1 to L2) ...\n",
      "Fitting 13 L1 models ...\n",
      "Fitting model: KNeighborsUnif_BAG_L1 ... Training model for up to 2399.21s of the 3599.72s of remaining time.\n",
      "\t0.6486\t = Validation score   (accuracy)\n",
      "\t0.07s\t = Training   runtime\n",
      "\t3.16s\t = Validation runtime\n",
      "Fitting model: KNeighborsDist_BAG_L1 ... Training model for up to 2395.69s of the 3596.19s of remaining time.\n",
      "\t0.65\t = Validation score   (accuracy)\n",
      "\t0.07s\t = Training   runtime\n",
      "\t3.19s\t = Validation runtime\n",
      "Fitting model: LightGBMXT_BAG_L1 ... Training model for up to 2392.16s of the 3592.66s of remaining time.\n",
      "Will use sequential fold fitting strategy because ray>=1.7.0,<1.8.0 is not installed.\n",
      "\tFitting 8 child models (S1F1 - S1F8) | Fitting with SequentialLocalFoldFittingStrategy\n"
     ]
    },
    {
     "name": "stdout",
     "output_type": "stream",
     "text": [
      "[1000]\tvalid_set's binary_error: 0.174436\n",
      "[1000]\tvalid_set's binary_error: 0.17833\n"
     ]
    },
    {
     "name": "stderr",
     "output_type": "stream",
     "text": [
      "\t0.826\t = Validation score   (accuracy)\n",
      "\t33.38s\t = Training   runtime\n",
      "\t0.2s\t = Validation runtime\n",
      "Fitting model: LightGBM_BAG_L1 ... Training model for up to 2357.86s of the 3558.36s of remaining time.\n",
      "\tFitting 8 child models (S1F1 - S1F8) | Fitting with SequentialLocalFoldFittingStrategy\n"
     ]
    },
    {
     "name": "stdout",
     "output_type": "stream",
     "text": [
      "[1000]\tvalid_set's binary_error: 0.174567\n"
     ]
    },
    {
     "name": "stderr",
     "output_type": "stream",
     "text": [
      "\t0.8254\t = Validation score   (accuracy)\n",
      "\t34.95s\t = Training   runtime\n",
      "\t0.17s\t = Validation runtime\n",
      "Fitting model: RandomForestGini_BAG_L1 ... Training model for up to 2322.12s of the 3522.63s of remaining time.\n",
      "\t0.788\t = Validation score   (accuracy)\n",
      "\t5.47s\t = Training   runtime\n",
      "\t0.94s\t = Validation runtime\n",
      "Fitting model: RandomForestEntr_BAG_L1 ... Training model for up to 2315.45s of the 3515.96s of remaining time.\n",
      "\t0.7869\t = Validation score   (accuracy)\n",
      "\t7.91s\t = Training   runtime\n",
      "\t0.79s\t = Validation runtime\n",
      "Fitting model: CatBoost_BAG_L1 ... Training model for up to 2306.51s of the 3507.01s of remaining time.\n",
      "\tFitting 8 child models (S1F1 - S1F8) | Fitting with SequentialLocalFoldFittingStrategy\n",
      "\tWarning: Exception caused CatBoost_BAG_L1 to fail during training (ImportError)... Skipping this model.\n",
      "\t\t`import catboost` failed.A quick tip is to install via `pip install catboost`.\n",
      "Fitting model: ExtraTreesGini_BAG_L1 ... Training model for up to 2306.38s of the 3506.88s of remaining time.\n",
      "\t0.8011\t = Validation score   (accuracy)\n",
      "\t1.62s\t = Training   runtime\n",
      "\t0.98s\t = Validation runtime\n",
      "Fitting model: ExtraTreesEntr_BAG_L1 ... Training model for up to 2303.47s of the 3503.97s of remaining time.\n",
      "\t0.8012\t = Validation score   (accuracy)\n",
      "\t1.65s\t = Training   runtime\n",
      "\t0.85s\t = Validation runtime\n",
      "Fitting model: NeuralNetFastAI_BAG_L1 ... Training model for up to 2300.66s of the 3501.17s of remaining time.\n",
      "\tFitting 8 child models (S1F1 - S1F8) | Fitting with SequentialLocalFoldFittingStrategy\n",
      "\tWarning: Exception caused NeuralNetFastAI_BAG_L1 to fail during training (ImportError)... Skipping this model.\n",
      "\t\tImport fastai failed. A quick tip is to install via `pip install fastai==2.*`. If you are using Mac OSX, please use this torch version to avoid compatibility issues: `pip install torch==1.6.0`.\n",
      "Fitting model: XGBoost_BAG_L1 ... Training model for up to 2300.52s of the 3501.03s of remaining time.\n",
      "\tFitting 8 child models (S1F1 - S1F8) | Fitting with SequentialLocalFoldFittingStrategy\n",
      "\t0.8243\t = Validation score   (accuracy)\n",
      "\t154.19s\t = Training   runtime\n",
      "\t0.19s\t = Validation runtime\n",
      "Fitting model: NeuralNetTorch_BAG_L1 ... Training model for up to 2145.81s of the 3346.32s of remaining time.\n",
      "\tFitting 8 child models (S1F1 - S1F8) | Fitting with SequentialLocalFoldFittingStrategy\n",
      "\t0.8083\t = Validation score   (accuracy)\n",
      "\t144.47s\t = Training   runtime\n",
      "\t0.67s\t = Validation runtime\n",
      "Fitting model: LightGBMLarge_BAG_L1 ... Training model for up to 2000.36s of the 3200.87s of remaining time.\n",
      "\tFitting 8 child models (S1F1 - S1F8) | Fitting with SequentialLocalFoldFittingStrategy\n"
     ]
    },
    {
     "name": "stdout",
     "output_type": "stream",
     "text": [
      "[1000]\tvalid_set's binary_error: 0.190226\n"
     ]
    },
    {
     "name": "stderr",
     "output_type": "stream",
     "text": [
      "\t0.8227\t = Validation score   (accuracy)\n",
      "\t119.5s\t = Training   runtime\n",
      "\t0.3s\t = Validation runtime\n",
      "Repeating k-fold bagging: 2/20\n",
      "Fitting model: LightGBMXT_BAG_L1 ... Training model for up to 1879.12s of the 3079.62s of remaining time.\n",
      "\tFitting 8 child models (S2F1 - S2F8) | Fitting with SequentialLocalFoldFittingStrategy\n"
     ]
    },
    {
     "name": "stdout",
     "output_type": "stream",
     "text": [
      "[1000]\tvalid_set's binary_error: 0.180451\n",
      "[1000]\tvalid_set's binary_error: 0.182707\n",
      "[1000]\tvalid_set's binary_error: 0.170805\n",
      "[2000]\tvalid_set's binary_error: 0.16629\n",
      "[1000]\tvalid_set's binary_error: 0.153499\n"
     ]
    },
    {
     "name": "stderr",
     "output_type": "stream",
     "text": [
      "\t0.8252\t = Validation score   (accuracy)\n",
      "\t72.38s\t = Training   runtime\n",
      "\t0.42s\t = Validation runtime\n",
      "Fitting model: LightGBM_BAG_L1 ... Training model for up to 1839.11s of the 3039.62s of remaining time.\n",
      "\tFitting 8 child models (S2F1 - S2F8) | Fitting with SequentialLocalFoldFittingStrategy\n",
      "\t0.824\t = Validation score   (accuracy)\n",
      "\t63.42s\t = Training   runtime\n",
      "\t0.32s\t = Validation runtime\n",
      "Fitting model: XGBoost_BAG_L1 ... Training model for up to 1810.07s of the 3010.57s of remaining time.\n",
      "\tFitting 8 child models (S2F1 - S2F8) | Fitting with SequentialLocalFoldFittingStrategy\n",
      "\t0.8214\t = Validation score   (accuracy)\n",
      "\t297.97s\t = Training   runtime\n",
      "\t0.38s\t = Validation runtime\n",
      "Fitting model: NeuralNetTorch_BAG_L1 ... Training model for up to 1665.79s of the 2866.3s of remaining time.\n",
      "\tFitting 8 child models (S2F1 - S2F8) | Fitting with SequentialLocalFoldFittingStrategy\n",
      "\t0.8097\t = Validation score   (accuracy)\n",
      "\t299.22s\t = Training   runtime\n",
      "\t1.37s\t = Validation runtime\n",
      "Fitting model: LightGBMLarge_BAG_L1 ... Training model for up to 1510.1s of the 2710.61s of remaining time.\n",
      "\tFitting 8 child models (S2F1 - S2F8) | Fitting with SequentialLocalFoldFittingStrategy\n"
     ]
    },
    {
     "name": "stdout",
     "output_type": "stream",
     "text": [
      "[1000]\tvalid_set's binary_error: 0.183459\n",
      "[1000]\tvalid_set's binary_error: 0.164033\n"
     ]
    },
    {
     "name": "stderr",
     "output_type": "stream",
     "text": [
      "\t0.8206\t = Validation score   (accuracy)\n",
      "\t266.22s\t = Training   runtime\n",
      "\t0.64s\t = Validation runtime\n",
      "Repeating k-fold bagging: 3/20\n",
      "Fitting model: LightGBMXT_BAG_L1 ... Training model for up to 1361.29s of the 2561.8s of remaining time.\n",
      "\tFitting 8 child models (S3F1 - S3F8) | Fitting with SequentialLocalFoldFittingStrategy\n"
     ]
    },
    {
     "name": "stdout",
     "output_type": "stream",
     "text": [
      "[1000]\tvalid_set's binary_error: 0.173684\n",
      "[1000]\tvalid_set's binary_error: 0.169925\n",
      "[1000]\tvalid_set's binary_error: 0.181339\n"
     ]
    },
    {
     "name": "stderr",
     "output_type": "stream",
     "text": [
      "\t0.8259\t = Validation score   (accuracy)\n",
      "\t103.67s\t = Training   runtime\n",
      "\t0.62s\t = Validation runtime\n",
      "Fitting model: LightGBM_BAG_L1 ... Training model for up to 1329.18s of the 2529.68s of remaining time.\n",
      "\tFitting 8 child models (S3F1 - S3F8) | Fitting with SequentialLocalFoldFittingStrategy\n"
     ]
    },
    {
     "name": "stdout",
     "output_type": "stream",
     "text": [
      "[1000]\tvalid_set's binary_error: 0.177577\n"
     ]
    },
    {
     "name": "stderr",
     "output_type": "stream",
     "text": [
      "\t0.8231\t = Validation score   (accuracy)\n",
      "\t99.18s\t = Training   runtime\n",
      "\t0.52s\t = Validation runtime\n",
      "Fitting model: XGBoost_BAG_L1 ... Training model for up to 1292.71s of the 2493.22s of remaining time.\n",
      "\tFitting 8 child models (S3F1 - S3F8) | Fitting with SequentialLocalFoldFittingStrategy\n",
      "\t0.8236\t = Validation score   (accuracy)\n",
      "\t446.18s\t = Training   runtime\n",
      "\t0.52s\t = Validation runtime\n",
      "Fitting model: NeuralNetTorch_BAG_L1 ... Training model for up to 1144.08s of the 2344.59s of remaining time.\n",
      "\tFitting 8 child models (S3F1 - S3F8) | Fitting with SequentialLocalFoldFittingStrategy\n",
      "\t0.8121\t = Validation score   (accuracy)\n",
      "\t443.7s\t = Training   runtime\n",
      "\t2.06s\t = Validation runtime\n",
      "Fitting model: LightGBMLarge_BAG_L1 ... Training model for up to 998.66s of the 2199.16s of remaining time.\n",
      "\tFitting 8 child models (S3F1 - S3F8) | Fitting with SequentialLocalFoldFittingStrategy\n"
     ]
    },
    {
     "name": "stdout",
     "output_type": "stream",
     "text": [
      "[1000]\tvalid_set's binary_error: 0.192481\n",
      "[2000]\tvalid_set's binary_error: 0.186466\n",
      "[1000]\tvalid_set's binary_error: 0.181339\n"
     ]
    },
    {
     "name": "stderr",
     "output_type": "stream",
     "text": [
      "\t0.8195\t = Validation score   (accuracy)\n",
      "\t402.24s\t = Training   runtime\n",
      "\t0.97s\t = Validation runtime\n",
      "Repeating k-fold bagging: 4/20\n",
      "Fitting model: LightGBMXT_BAG_L1 ... Training model for up to 860.55s of the 2061.05s of remaining time.\n",
      "\tFitting 8 child models (S4F1 - S4F8) | Fitting with SequentialLocalFoldFittingStrategy\n"
     ]
    },
    {
     "name": "stdout",
     "output_type": "stream",
     "text": [
      "[1000]\tvalid_set's binary_error: 0.165414\n",
      "[1000]\tvalid_set's binary_error: 0.164786\n"
     ]
    },
    {
     "name": "stderr",
     "output_type": "stream",
     "text": [
      "\t0.8269\t = Validation score   (accuracy)\n",
      "\t132.66s\t = Training   runtime\n",
      "\t0.8s\t = Validation runtime\n",
      "Fitting model: LightGBM_BAG_L1 ... Training model for up to 830.8s of the 2031.31s of remaining time.\n",
      "\tFitting 8 child models (S4F1 - S4F8) | Fitting with SequentialLocalFoldFittingStrategy\n"
     ]
    },
    {
     "name": "stdout",
     "output_type": "stream",
     "text": [
      "[1000]\tvalid_set's binary_error: 0.176692\n",
      "[1000]\tvalid_set's binary_error: 0.191729\n"
     ]
    },
    {
     "name": "stderr",
     "output_type": "stream",
     "text": [
      "\t0.8238\t = Validation score   (accuracy)\n",
      "\t133.0s\t = Training   runtime\n",
      "\t0.69s\t = Validation runtime\n",
      "Fitting model: XGBoost_BAG_L1 ... Training model for up to 796.26s of the 1996.77s of remaining time.\n",
      "\tFitting 8 child models (S4F1 - S4F8) | Fitting with SequentialLocalFoldFittingStrategy\n",
      "\t0.824\t = Validation score   (accuracy)\n",
      "\t570.59s\t = Training   runtime\n",
      "\t0.71s\t = Validation runtime\n",
      "Fitting model: NeuralNetTorch_BAG_L1 ... Training model for up to 671.37s of the 1871.87s of remaining time.\n",
      "\tFitting 8 child models (S4F1 - S4F8) | Fitting with SequentialLocalFoldFittingStrategy\n",
      "\t0.8153\t = Validation score   (accuracy)\n",
      "\t617.43s\t = Training   runtime\n",
      "\t2.75s\t = Validation runtime\n",
      "Fitting model: LightGBMLarge_BAG_L1 ... Training model for up to 496.73s of the 1697.23s of remaining time.\n",
      "\tFitting 8 child models (S4F1 - S4F8) | Fitting with SequentialLocalFoldFittingStrategy\n"
     ]
    },
    {
     "name": "stdout",
     "output_type": "stream",
     "text": [
      "[1000]\tvalid_set's binary_error: 0.177444\n"
     ]
    },
    {
     "name": "stderr",
     "output_type": "stream",
     "text": [
      "\t0.8205\t = Validation score   (accuracy)\n",
      "\t529.57s\t = Training   runtime\n",
      "\t1.28s\t = Validation runtime\n",
      "Completed 4/20 k-fold bagging repeats ...\n",
      "Fitting model: WeightedEnsemble_L2 ... Training model for up to 360.0s of the 1568.05s of remaining time.\n",
      "\t0.8315\t = Validation score   (accuracy)\n",
      "\t3.69s\t = Training   runtime\n",
      "\t0.0s\t = Validation runtime\n",
      "Fitting 11 L2 models ...\n",
      "Fitting model: LightGBMXT_BAG_L2 ... Training model for up to 1564.3s of the 1564.29s of remaining time.\n",
      "\tFitting 8 child models (S1F1 - S1F8) | Fitting with SequentialLocalFoldFittingStrategy\n",
      "\t0.8356\t = Validation score   (accuracy)\n",
      "\t13.29s\t = Training   runtime\n",
      "\t0.09s\t = Validation runtime\n",
      "Fitting model: LightGBM_BAG_L2 ... Training model for up to 1550.67s of the 1550.65s of remaining time.\n",
      "\tFitting 8 child models (S1F1 - S1F8) | Fitting with SequentialLocalFoldFittingStrategy\n",
      "\t0.8342\t = Validation score   (accuracy)\n",
      "\t17.39s\t = Training   runtime\n",
      "\t0.11s\t = Validation runtime\n",
      "Fitting model: RandomForestGini_BAG_L2 ... Training model for up to 1532.91s of the 1532.9s of remaining time.\n",
      "\t0.8294\t = Validation score   (accuracy)\n",
      "\t5.74s\t = Training   runtime\n",
      "\t0.8s\t = Validation runtime\n",
      "Fitting model: RandomForestEntr_BAG_L2 ... Training model for up to 1526.15s of the 1526.14s of remaining time.\n",
      "\t0.8298\t = Validation score   (accuracy)\n",
      "\t7.36s\t = Training   runtime\n",
      "\t0.83s\t = Validation runtime\n",
      "Fitting model: CatBoost_BAG_L2 ... Training model for up to 1517.72s of the 1517.71s of remaining time.\n",
      "\tFitting 8 child models (S1F1 - S1F8) | Fitting with SequentialLocalFoldFittingStrategy\n",
      "\tWarning: Exception caused CatBoost_BAG_L2 to fail during training (ImportError)... Skipping this model.\n",
      "\t\t`import catboost` failed.A quick tip is to install via `pip install catboost`.\n",
      "Fitting model: ExtraTreesGini_BAG_L2 ... Training model for up to 1517.58s of the 1517.57s of remaining time.\n",
      "\t0.8308\t = Validation score   (accuracy)\n",
      "\t1.39s\t = Training   runtime\n",
      "\t0.92s\t = Validation runtime\n",
      "Fitting model: ExtraTreesEntr_BAG_L2 ... Training model for up to 1514.99s of the 1514.98s of remaining time.\n",
      "\t0.8303\t = Validation score   (accuracy)\n",
      "\t1.42s\t = Training   runtime\n",
      "\t0.92s\t = Validation runtime\n",
      "Fitting model: NeuralNetFastAI_BAG_L2 ... Training model for up to 1512.35s of the 1512.34s of remaining time.\n",
      "\tFitting 8 child models (S1F1 - S1F8) | Fitting with SequentialLocalFoldFittingStrategy\n",
      "\tWarning: Exception caused NeuralNetFastAI_BAG_L2 to fail during training (ImportError)... Skipping this model.\n",
      "\t\tImport fastai failed. A quick tip is to install via `pip install fastai==2.*`. If you are using Mac OSX, please use this torch version to avoid compatibility issues: `pip install torch==1.6.0`.\n",
      "Fitting model: XGBoost_BAG_L2 ... Training model for up to 1512.21s of the 1512.2s of remaining time.\n",
      "\tFitting 8 child models (S1F1 - S1F8) | Fitting with SequentialLocalFoldFittingStrategy\n",
      "\t0.8344\t = Validation score   (accuracy)\n",
      "\t73.71s\t = Training   runtime\n",
      "\t0.11s\t = Validation runtime\n",
      "Fitting model: NeuralNetTorch_BAG_L2 ... Training model for up to 1438.11s of the 1438.1s of remaining time.\n",
      "\tFitting 8 child models (S1F1 - S1F8) | Fitting with SequentialLocalFoldFittingStrategy\n",
      "\t0.8314\t = Validation score   (accuracy)\n",
      "\t115.84s\t = Training   runtime\n",
      "\t0.7s\t = Validation runtime\n",
      "Fitting model: LightGBMLarge_BAG_L2 ... Training model for up to 1321.27s of the 1321.26s of remaining time.\n",
      "\tFitting 8 child models (S1F1 - S1F8) | Fitting with SequentialLocalFoldFittingStrategy\n",
      "\t0.834\t = Validation score   (accuracy)\n",
      "\t64.16s\t = Training   runtime\n",
      "\t0.09s\t = Validation runtime\n",
      "Repeating k-fold bagging: 2/20\n",
      "Fitting model: LightGBMXT_BAG_L2 ... Training model for up to 1256.5s of the 1256.48s of remaining time.\n",
      "\tFitting 8 child models (S2F1 - S2F8) | Fitting with SequentialLocalFoldFittingStrategy\n",
      "\t0.8341\t = Validation score   (accuracy)\n",
      "\t26.77s\t = Training   runtime\n",
      "\t0.16s\t = Validation runtime\n",
      "Fitting model: LightGBM_BAG_L2 ... Training model for up to 1242.76s of the 1242.74s of remaining time.\n",
      "\tFitting 8 child models (S2F1 - S2F8) | Fitting with SequentialLocalFoldFittingStrategy\n",
      "\t0.8334\t = Validation score   (accuracy)\n",
      "\t37.79s\t = Training   runtime\n",
      "\t0.22s\t = Validation runtime\n",
      "Fitting model: XGBoost_BAG_L2 ... Training model for up to 1222.01s of the 1222.0s of remaining time.\n",
      "\tFitting 8 child models (S2F1 - S2F8) | Fitting with SequentialLocalFoldFittingStrategy\n",
      "\t0.8304\t = Validation score   (accuracy)\n",
      "\t147.79s\t = Training   runtime\n",
      "\t0.23s\t = Validation runtime\n",
      "Fitting model: NeuralNetTorch_BAG_L2 ... Training model for up to 1147.55s of the 1147.54s of remaining time.\n",
      "\tFitting 8 child models (S2F1 - S2F8) | Fitting with SequentialLocalFoldFittingStrategy\n",
      "\t0.8324\t = Validation score   (accuracy)\n",
      "\t217.94s\t = Training   runtime\n",
      "\t1.39s\t = Validation runtime\n",
      "Fitting model: LightGBMLarge_BAG_L2 ... Training model for up to 1044.54s of the 1044.53s of remaining time.\n",
      "\tFitting 8 child models (S2F1 - S2F8) | Fitting with SequentialLocalFoldFittingStrategy\n",
      "\t0.8296\t = Validation score   (accuracy)\n",
      "\t125.49s\t = Training   runtime\n",
      "\t0.19s\t = Validation runtime\n",
      "Repeating k-fold bagging: 3/20\n",
      "Fitting model: LightGBMXT_BAG_L2 ... Training model for up to 982.65s of the 982.64s of remaining time.\n",
      "\tFitting 8 child models (S3F1 - S3F8) | Fitting with SequentialLocalFoldFittingStrategy\n",
      "\t0.8339\t = Validation score   (accuracy)\n",
      "\t42.17s\t = Training   runtime\n",
      "\t0.2s\t = Validation runtime\n",
      "Fitting model: LightGBM_BAG_L2 ... Training model for up to 966.94s of the 966.93s of remaining time.\n",
      "\tFitting 8 child models (S3F1 - S3F8) | Fitting with SequentialLocalFoldFittingStrategy\n",
      "\t0.8325\t = Validation score   (accuracy)\n",
      "\t56.07s\t = Training   runtime\n",
      "\t0.3s\t = Validation runtime\n",
      "Fitting model: XGBoost_BAG_L2 ... Training model for up to 948.37s of the 948.36s of remaining time.\n",
      "\tFitting 8 child models (S3F1 - S3F8) | Fitting with SequentialLocalFoldFittingStrategy\n",
      "\t0.8309\t = Validation score   (accuracy)\n",
      "\t216.08s\t = Training   runtime\n",
      "\t0.34s\t = Validation runtime\n",
      "Fitting model: NeuralNetTorch_BAG_L2 ... Training model for up to 879.74s of the 879.73s of remaining time.\n",
      "\tFitting 8 child models (S3F1 - S3F8) | Fitting with SequentialLocalFoldFittingStrategy\n",
      "\t0.831\t = Validation score   (accuracy)\n",
      "\t321.17s\t = Training   runtime\n",
      "\t2.09s\t = Validation runtime\n",
      "Fitting model: LightGBMLarge_BAG_L2 ... Training model for up to 775.59s of the 775.58s of remaining time.\n",
      "\tFitting 8 child models (S3F1 - S3F8) | Fitting with SequentialLocalFoldFittingStrategy\n",
      "\t0.8296\t = Validation score   (accuracy)\n",
      "\t205.4s\t = Training   runtime\n",
      "\t0.33s\t = Validation runtime\n",
      "Repeating k-fold bagging: 4/20\n",
      "Fitting model: LightGBMXT_BAG_L2 ... Training model for up to 694.74s of the 694.73s of remaining time.\n",
      "\tFitting 8 child models (S4F1 - S4F8) | Fitting with SequentialLocalFoldFittingStrategy\n",
      "\t0.8347\t = Validation score   (accuracy)\n",
      "\t56.01s\t = Training   runtime\n",
      "\t0.28s\t = Validation runtime\n",
      "Fitting model: LightGBM_BAG_L2 ... Training model for up to 680.62s of the 680.61s of remaining time.\n",
      "\tFitting 8 child models (S4F1 - S4F8) | Fitting with SequentialLocalFoldFittingStrategy\n",
      "\t0.8325\t = Validation score   (accuracy)\n",
      "\t72.21s\t = Training   runtime\n",
      "\t0.33s\t = Validation runtime\n",
      "Fitting model: XGBoost_BAG_L2 ... Training model for up to 664.26s of the 664.25s of remaining time.\n",
      "\tFitting 8 child models (S4F1 - S4F8) | Fitting with SequentialLocalFoldFittingStrategy\n",
      "\t0.8312\t = Validation score   (accuracy)\n",
      "\t289.53s\t = Training   runtime\n",
      "\t0.48s\t = Validation runtime\n",
      "Fitting model: NeuralNetTorch_BAG_L2 ... Training model for up to 590.4s of the 590.39s of remaining time.\n",
      "\tFitting 8 child models (S4F1 - S4F8) | Fitting with SequentialLocalFoldFittingStrategy\n",
      "\t0.8317\t = Validation score   (accuracy)\n",
      "\t422.19s\t = Training   runtime\n",
      "\t2.77s\t = Validation runtime\n",
      "Fitting model: LightGBMLarge_BAG_L2 ... Training model for up to 488.5s of the 488.49s of remaining time.\n",
      "\tFitting 8 child models (S4F1 - S4F8) | Fitting with SequentialLocalFoldFittingStrategy\n",
      "\t0.8292\t = Validation score   (accuracy)\n",
      "\t266.86s\t = Training   runtime\n",
      "\t0.42s\t = Validation runtime\n",
      "Repeating k-fold bagging: 5/20\n",
      "Fitting model: LightGBMXT_BAG_L2 ... Training model for up to 426.5s of the 426.48s of remaining time.\n",
      "\tFitting 8 child models (S5F1 - S5F8) | Fitting with SequentialLocalFoldFittingStrategy\n"
     ]
    },
    {
     "name": "stderr",
     "output_type": "stream",
     "text": [
      "\t0.8344\t = Validation score   (accuracy)\n",
      "\t69.78s\t = Training   runtime\n",
      "\t0.34s\t = Validation runtime\n",
      "Fitting model: LightGBM_BAG_L2 ... Training model for up to 412.48s of the 412.47s of remaining time.\n",
      "\tFitting 8 child models (S5F1 - S5F8) | Fitting with SequentialLocalFoldFittingStrategy\n",
      "\t0.833\t = Validation score   (accuracy)\n",
      "\t88.81s\t = Training   runtime\n",
      "\t0.44s\t = Validation runtime\n",
      "Fitting model: XGBoost_BAG_L2 ... Training model for up to 395.59s of the 395.58s of remaining time.\n",
      "\tFitting 8 child models (S5F1 - S5F8) | Fitting with SequentialLocalFoldFittingStrategy\n",
      "\t0.8315\t = Validation score   (accuracy)\n",
      "\t354.39s\t = Training   runtime\n",
      "\t0.59s\t = Validation runtime\n",
      "Fitting model: NeuralNetTorch_BAG_L2 ... Training model for up to 330.38s of the 330.38s of remaining time.\n",
      "\tFitting 8 child models (S5F1 - S5F8) | Fitting with SequentialLocalFoldFittingStrategy\n",
      "\t0.8312\t = Validation score   (accuracy)\n",
      "\t528.59s\t = Training   runtime\n",
      "\t3.47s\t = Validation runtime\n",
      "Fitting model: LightGBMLarge_BAG_L2 ... Training model for up to 223.09s of the 223.08s of remaining time.\n",
      "\tFitting 8 child models (S5F1 - S5F8) | Fitting with SequentialLocalFoldFittingStrategy\n",
      "\t0.8294\t = Validation score   (accuracy)\n",
      "\t323.64s\t = Training   runtime\n",
      "\t0.52s\t = Validation runtime\n",
      "Completed 5/20 k-fold bagging repeats ...\n",
      "Fitting model: WeightedEnsemble_L3 ... Training model for up to 360.0s of the 165.85s of remaining time.\n",
      "\t0.8352\t = Validation score   (accuracy)\n",
      "\t3.09s\t = Training   runtime\n",
      "\t0.02s\t = Validation runtime\n",
      "AutoGluon training complete, total runtime = 3437.33s ... Best model: \"WeightedEnsemble_L3\"\n",
      "TabularPredictor saved. To load, use: predictor = TabularPredictor.load(\"AutogluonModels/ag-20220411_044146\\\")\n"
     ]
    }
   ],
   "source": [
    "#predictor = TabularPredictor(label=COLUMN_NAME).fit(train_data=TRAIN_DATA.csv)\n",
    "#predictor = TabularPredictor(label='Cover_Type').fit(train_data=df_train)\n",
    "#predictor = TabularPredictor(label, eval_metric=metric).fit(df_Xy_train, time_limit=time_limit, presets='best_quality')\n",
    "\n",
    "predictor = TabularPredictor(label, eval_metric=metric).fit(df_Xy_train, time_limit=time_limit, presets='best_quality')"
   ]
  },
  {
   "cell_type": "code",
   "execution_count": 56,
   "metadata": {},
   "outputs": [],
   "source": [
    "# predictions = predictor.predict(TEST_DATA.csv)\n",
    "#predictions = predictor.predict(df_test)\n",
    "\n",
    "#y_gluon1 = predictor.predict(df_X_train) # \n",
    "y_gluon1 = predictor.predict(df_X_test)"
   ]
  },
  {
   "cell_type": "code",
   "execution_count": 58,
   "metadata": {},
   "outputs": [
    {
     "name": "stdout",
     "output_type": "stream",
     "text": [
      "(2659,)\n",
      "(2659,)\n"
     ]
    },
    {
     "data": {
      "text/plain": [
       "pandas.core.series.Series"
      ]
     },
     "execution_count": 58,
     "metadata": {},
     "output_type": "execute_result"
    }
   ],
   "source": [
    "print(y_gluon1.shape)\n",
    "print(df_y_test.shape)\n",
    "type(y_gluon1)"
   ]
  },
  {
   "cell_type": "code",
   "execution_count": 59,
   "metadata": {},
   "outputs": [
    {
     "name": "stdout",
     "output_type": "stream",
     "text": [
      "Accuracy:  0.8427980443775855\n",
      "Precision:  0.8084958217270195\n",
      "Recall:  0.8903374233128835\n",
      "F1:  0.8474452554744526\n",
      "ROC_AUC: 0.8436926968962941\n",
      "[[1080  275]\n",
      " [ 143 1161]]\n",
      " \n"
     ]
    }
   ],
   "source": [
    "y_pred = y_gluon1.values\n",
    "#y_test = y\n",
    "y_test = df_y_test.values\n",
    "\n",
    "score_accuracy = accuracy_score(y_test, y_pred)\n",
    "score_precision = precision_score(y_test, y_pred)\n",
    "score_recall = recall_score(y_test, y_pred)\n",
    "score_f1 = f1_score(y_test, y_pred)\n",
    "score_roc_auc = roc_auc_score(y_test, y_pred)\n",
    "score_confmat = confusion_matrix(y_test, y_pred)\n",
    "    \n",
    "print('Accuracy: ', score_accuracy)\n",
    "print('Precision: ', score_precision)\n",
    "print('Recall: ', score_recall)\n",
    "print('F1: ', score_f1)\n",
    "print('ROC_AUC:', score_roc_auc)\n",
    "print(score_confmat)\n",
    "#viz_confusion_matrix(score_confmat)\n",
    "print(\" \")\n",
    "\n",
    "#Accuracy:  0.8427980443775855\n",
    "#Precision:  0.8084958217270195\n",
    "#Recall:  0.8903374233128835\n",
    "#F1:  0.8474452554744526\n",
    "#ROC_AUC: 0.8436926968962941\n",
    "#[[1080  275]\n",
    "# [ 143 1161]]"
   ]
  },
  {
   "cell_type": "code",
   "execution_count": 86,
   "metadata": {},
   "outputs": [
    {
     "data": {
      "text/html": [
       "<div>\n",
       "<style scoped>\n",
       "    .dataframe tbody tr th:only-of-type {\n",
       "        vertical-align: middle;\n",
       "    }\n",
       "\n",
       "    .dataframe tbody tr th {\n",
       "        vertical-align: top;\n",
       "    }\n",
       "\n",
       "    .dataframe thead th {\n",
       "        text-align: right;\n",
       "    }\n",
       "</style>\n",
       "<table border=\"1\" class=\"dataframe\">\n",
       "  <thead>\n",
       "    <tr style=\"text-align: right;\">\n",
       "      <th></th>\n",
       "      <th>Model</th>\n",
       "      <th>Accuracy</th>\n",
       "    </tr>\n",
       "  </thead>\n",
       "  <tbody>\n",
       "    <tr>\n",
       "      <th>0</th>\n",
       "      <td>Logistic Regression</td>\n",
       "      <td>0.667168</td>\n",
       "    </tr>\n",
       "    <tr>\n",
       "      <th>1</th>\n",
       "      <td>XGBoost</td>\n",
       "      <td>0.814968</td>\n",
       "    </tr>\n",
       "    <tr>\n",
       "      <th>2</th>\n",
       "      <td>AutoGluon</td>\n",
       "      <td>0.842798</td>\n",
       "    </tr>\n",
       "  </tbody>\n",
       "</table>\n",
       "</div>"
      ],
      "text/plain": [
       "                 Model  Accuracy\n",
       "0  Logistic Regression  0.667168\n",
       "1              XGBoost  0.814968\n",
       "2            AutoGluon  0.842798"
      ]
     },
     "execution_count": 86,
     "metadata": {},
     "output_type": "execute_result"
    }
   ],
   "source": [
    "#df_results['Model'][2] = 'AutoGluon'\n",
    "#df_results['Accuracy'][2] = 0.8427980443775855\n",
    "\n",
    "df_results.iloc[2, df_results.columns.get_loc('Accuracy')] = 0.8427980443775855\n",
    "df_results"
   ]
  },
  {
   "cell_type": "code",
   "execution_count": 60,
   "metadata": {},
   "outputs": [
    {
     "name": "stdout",
     "output_type": "stream",
     "text": [
      "*** Summary of fit() ***\n",
      "Estimated performance of each model:\n",
      "                      model  score_val  pred_time_val     fit_time  pred_time_val_marginal  fit_time_marginal  stack_level  can_infer  fit_order\n",
      "0       WeightedEnsemble_L3   0.835182      22.934267  2704.836437                0.015626           3.093797            3       True         22\n",
      "1         LightGBMXT_BAG_L2   0.834430      16.465691  2069.824062                0.343677          69.775330            2       True         13\n",
      "2           LightGBM_BAG_L2   0.833020      16.559356  2088.856714                0.437343          88.807981            2       True         14\n",
      "3       WeightedEnsemble_L2   0.831516      11.197377  1994.136187                0.000000           3.687510            2       True         12\n",
      "4            XGBoost_BAG_L2   0.831516      16.715716  2354.434849                0.593703         354.386116            2       True         19\n",
      "5     NeuralNetTorch_BAG_L2   0.831234      19.590729  2528.638384                3.468715         528.589651            2       True         20\n",
      "6     ExtraTreesGini_BAG_L2   0.830763      17.043898  2001.439357                0.921884           1.390624            2       True         17\n",
      "7     ExtraTreesEntr_BAG_L2   0.830293      17.043891  2001.470612                0.921878           1.421880            2       True         18\n",
      "8   RandomForestEntr_BAG_L2   0.829823      16.950147  2007.408116                0.828133           7.359384            2       True         16\n",
      "9   RandomForestGini_BAG_L2   0.829447      16.918895  2005.788414                0.796881           5.739681            2       True         15\n",
      "10     LightGBMLarge_BAG_L2   0.829353      16.637585  2323.687603                0.515572         323.638870            2       True         21\n",
      "11        LightGBMXT_BAG_L1   0.826909       0.799449   132.659045                0.799449         132.659045            1       True          3\n",
      "12           XGBoost_BAG_L1   0.823994       0.705451   570.591274                0.705451         570.591274            1       True          9\n",
      "13          LightGBM_BAG_L1   0.823806       0.689070   133.002816                0.689070         133.002816            1       True          4\n",
      "14     LightGBMLarge_BAG_L1   0.820515       1.281291   529.566199                1.281291         529.566199            1       True         11\n",
      "15    NeuralNetTorch_BAG_L1   0.815344       2.747350   617.434594                2.747350         617.434594            1       True         10\n",
      "16    ExtraTreesEntr_BAG_L1   0.801241       0.848314     1.649018                0.848314           1.649018            1       True          8\n",
      "17    ExtraTreesGini_BAG_L1   0.801147       0.976173     1.617512                0.976173           1.617512            1       True          7\n",
      "18  RandomForestGini_BAG_L1   0.787984       0.937199     5.472734                0.937199           5.472734            1       True          5\n",
      "19  RandomForestEntr_BAG_L1   0.786950       0.785430     7.911545                0.785430           7.911545            1       True          6\n",
      "20    KNeighborsDist_BAG_L1   0.649962       3.189254     0.072998                3.189254           0.072998            1       True          2\n",
      "21    KNeighborsUnif_BAG_L1   0.648646       3.163033     0.070999                3.163033           0.070999            1       True          1\n",
      "Number of models trained: 22\n",
      "Types of models trained:\n",
      "{'StackerEnsembleModel_RF', 'StackerEnsembleModel_XGBoost', 'StackerEnsembleModel_TabularNeuralNetTorch', 'StackerEnsembleModel_KNN', 'WeightedEnsembleModel', 'StackerEnsembleModel_XT', 'StackerEnsembleModel_LGB'}\n",
      "Bagging used: True  (with 8 folds)\n",
      "Multi-layer stack-ensembling used: True  (with 3 levels)\n",
      "Feature Metadata (Processed):\n",
      "(raw dtype, special dtypes):\n",
      "('float', []) : 117 | ['sensor_00__sum_values', 'sensor_00__median', 'sensor_00__mean', 'sensor_00__standard_deviation', 'sensor_00__variance', ...]\n",
      "Plot summary of models saved to file: AutogluonModels/ag-20220411_044146\\SummaryOfModels.html\n",
      "*** End of fit() summary ***\n"
     ]
    }
   ],
   "source": [
    "results = predictor.fit_summary(show_plot=True)"
   ]
  },
  {
   "cell_type": "code",
   "execution_count": 87,
   "metadata": {},
   "outputs": [
    {
     "data": {
      "text/html": [
       "<div>\n",
       "<style scoped>\n",
       "    .dataframe tbody tr th:only-of-type {\n",
       "        vertical-align: middle;\n",
       "    }\n",
       "\n",
       "    .dataframe tbody tr th {\n",
       "        vertical-align: top;\n",
       "    }\n",
       "\n",
       "    .dataframe thead th {\n",
       "        text-align: right;\n",
       "    }\n",
       "</style>\n",
       "<table border=\"1\" class=\"dataframe\">\n",
       "  <thead>\n",
       "    <tr style=\"text-align: right;\">\n",
       "      <th></th>\n",
       "      <th>Model</th>\n",
       "      <th>Accuracy</th>\n",
       "    </tr>\n",
       "  </thead>\n",
       "  <tbody>\n",
       "    <tr>\n",
       "      <th>0</th>\n",
       "      <td>Logistic Regression</td>\n",
       "      <td>0.667168</td>\n",
       "    </tr>\n",
       "    <tr>\n",
       "      <th>1</th>\n",
       "      <td>XGBoost</td>\n",
       "      <td>0.814968</td>\n",
       "    </tr>\n",
       "    <tr>\n",
       "      <th>2</th>\n",
       "      <td>AutoGluon</td>\n",
       "      <td>0.842798</td>\n",
       "    </tr>\n",
       "  </tbody>\n",
       "</table>\n",
       "</div>"
      ],
      "text/plain": [
       "                 Model  Accuracy\n",
       "0  Logistic Regression  0.667168\n",
       "1              XGBoost  0.814968\n",
       "2            AutoGluon  0.842798"
      ]
     },
     "execution_count": 87,
     "metadata": {},
     "output_type": "execute_result"
    }
   ],
   "source": [
    "df_results"
   ]
  },
  {
   "cell_type": "code",
   "execution_count": 90,
   "metadata": {},
   "outputs": [],
   "source": [
    "import seaborn as sns"
   ]
  },
  {
   "cell_type": "code",
   "execution_count": 103,
   "metadata": {},
   "outputs": [
    {
     "data": {
      "text/plain": [
       "(0.6, 0.85)"
      ]
     },
     "execution_count": 103,
     "metadata": {},
     "output_type": "execute_result"
    },
    {
     "data": {
      "image/png": "[encoded data removed]",
      "text/plain": [
       "<Figure size 700x500 with 1 Axes>"
      ]
     },
     "metadata": {},
     "output_type": "display_data"
    }
   ],
   "source": [
    "plt.figure(figsize=(7,5))\n",
    "plt.style.use('default')\n",
    "plt.style.use('seaborn-whitegrid')\n",
    "plt.style.use('seaborn-poster')\n",
    "sns.barplot(x=df_results['Model'], y=df_results['Accuracy'], palette='viridis')\n",
    "plt.ylim(0.6, 0.85)"
   ]
  },
  {
   "cell_type": "code",
   "execution_count": null,
   "metadata": {},
   "outputs": [],
   "source": []
  }
 ],
 "metadata": {
  "kernelspec": {
   "display_name": "Python 3",
   "language": "python",
   "name": "python3"
  },
  "language_info": {
   "codemirror_mode": {
    "name": "ipython",
    "version": 3
   },
   "file_extension": ".py",
   "mimetype": "text/x-python",
   "name": "python",
   "nbconvert_exporter": "python",
   "pygments_lexer": "ipython3",
   "version": "3.8.5"
  }
 },
 "nbformat": 4,
 "nbformat_minor": 5
}
